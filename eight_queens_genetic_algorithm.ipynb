{
 "cells": [
  {
   "cell_type": "code",
   "execution_count": 36,
   "id": "04685b0d",
   "metadata": {},
   "outputs": [],
   "source": [
    "import random\n",
    "\n",
    "def create_generation(size, queens):\n",
    "    generation_list = []\n",
    "    for i in range(size):\n",
    "        population = []\n",
    "        for j in range(queens):\n",
    "            population.append(random.randint(0,queens - 1))\n",
    "        population.append(queens+1)\n",
    "        generation_list.append(population)\n",
    "    return generation_list"
   ]
  },
  {
   "cell_type": "code",
   "execution_count": 47,
   "id": "30afdf1b",
   "metadata": {},
   "outputs": [],
   "source": [
    "def calculate_lefthand_diagonal(x, y, population):\n",
    "    punished = 0\n",
    "    list_length = len(population) - 1\n",
    "    if x <= y:\n",
    "        j = 0\n",
    "        for i in range(y - x, list_length):\n",
    "            if i == population[j] and i != y:\n",
    "                punished = 1\n",
    "                break\n",
    "            j += 1\n",
    "    else:\n",
    "        i = 0\n",
    "        for j in range(x - y, list_length):\n",
    "            if i == population[j] and i != y:\n",
    "                punished = 1\n",
    "                break\n",
    "            i += 1\n",
    "    return punished"
   ]
  },
  {
   "cell_type": "code",
   "execution_count": 48,
   "id": "a6a5c8e5",
   "metadata": {},
   "outputs": [],
   "source": [
    "def calculate_righthand_diagonal(x, y, population):\n",
    "    list_length = len(population) - 1\n",
    "    coordinate_sum = x + y\n",
    "    punished = 0\n",
    "    if x + y <= list_length - 1:\n",
    "        j = 0\n",
    "        for i in range(coordinate_sum, -1, -1):\n",
    "            if i == population[j] and i != y:\n",
    "                punished = 1\n",
    "                break\n",
    "            j += 1\n",
    "    else:\n",
    "        j = coordinate_sum - list_length + 1\n",
    "        for i in range(list_length - 1, coordinate_sum - list_length + 1, -1):\n",
    "            if i == population[j] and i != y:\n",
    "                punished = 1\n",
    "                break\n",
    "            j += 1\n",
    "    return punished"
   ]
  },
  {
   "cell_type": "code",
   "execution_count": 41,
   "id": "b83897fe",
   "metadata": {},
   "outputs": [],
   "source": [
    "def calculate_diagonal_punishment(x, y, population):\n",
    "    if calculate_lefthand_diagonal(x, y, population) == 1 or calculate_righthand_diagonal(x, y, population) == 1:\n",
    "        return 1\n",
    "    else:\n",
    "        return 0"
   ]
  },
  {
   "cell_type": "code",
   "execution_count": 37,
   "id": "d2f2c5f3",
   "metadata": {},
   "outputs": [],
   "source": [
    "def fitness_score_criteria(population):\n",
    "    return population[-1]\n",
    "\n",
    "def sort_generaton_by_fitness_score(generation):\n",
    "    generation.sort(key = fitness_score_criteria)\n",
    "    return generation"
   ]
  },
  {
   "cell_type": "code",
   "execution_count": 64,
   "id": "0b92daaf",
   "metadata": {},
   "outputs": [],
   "source": [
    "def evaluate_generation(generation): # Calculates fitness score of generation and sorts in ascending order\n",
    "    for population in generation:\n",
    "        fitness_score = 0\n",
    "        for queen_x_position in range(len(population) - 1):\n",
    "            queen_y_position = population[queen_x_position]\n",
    "            # Evaluation of queens hitting each other\n",
    "            fitness_score += calculate_diagonal_punishment(queen_x_position, queen_y_position, population)\n",
    "            if population.count(queen_y_position) > 1:\n",
    "                fitness_score += 1\n",
    "        population[-1] = fitness_score\n",
    "    sort_generaton_by_fitness_score(generation)"
   ]
  },
  {
   "cell_type": "code",
   "execution_count": 67,
   "id": "2527ed2b",
   "metadata": {},
   "outputs": [],
   "source": [
    "def crossover_generation(generation):\n",
    "    pop_half = (len(generation[0]) - 1) // 2\n",
    "    temp_pop = []\n",
    "    for i in range(len(generation[0]) - 1):\n",
    "        if i < pop_half:\n",
    "            temp_pop.append(generation[0][i])\n",
    "        else:\n",
    "            temp_pop.append(generation[1][i - pop_half])\n",
    "    for i in range(len(generation[0]) - 1):\n",
    "        if i < pop_half:\n",
    "            generation[1][i] = temp_pop[i]\n",
    "        else:\n",
    "            generation[0][i - pop_half] = temp_pop[i]"
   ]
  },
  {
   "cell_type": "code",
   "execution_count": 75,
   "id": "c5129bd9",
   "metadata": {},
   "outputs": [],
   "source": [
    "def mutate_generation(generation):\n",
    "    upper_limit = len(generation[0]) - 2\n",
    "    for i in range(len(generation)):\n",
    "        generation[i][random.randint(0, upper_limit)] = random.randint(0, upper_limit)"
   ]
  },
  {
   "cell_type": "code",
   "execution_count": 102,
   "id": "04d3293a",
   "metadata": {},
   "outputs": [],
   "source": [
    "def print_solution(solution):\n",
    "    for i in range(-1, len(solution) - 1):\n",
    "        for j in range(-1, len(solution) - 1):\n",
    "            if i == -1:\n",
    "                if j == -1:\n",
    "                    print(\" \", end = \" \")\n",
    "                else:\n",
    "                    print(f\"{j}\", end = \" \")\n",
    "            else:\n",
    "                if j == -1:\n",
    "                    print(f\"{i}\", end = \" \")\n",
    "                else:\n",
    "                    if solution[j] == i:\n",
    "                        print(f\"Q\", end = \" \")\n",
    "                    else:\n",
    "                        print(f\"X\", end = \" \")\n",
    "        print('', end = \"\\n\")"
   ]
  },
  {
   "cell_type": "code",
   "execution_count": 156,
   "id": "8bf64eab",
   "metadata": {},
   "outputs": [
    {
     "name": "stdout",
     "output_type": "stream",
     "text": [
      "\n",
      "PROBLEM IS SOLVED => generations = 0\n",
      "  0 1 2 3 \n",
      "0 X X Q X \n",
      "1 Q X X X \n",
      "2 X X X Q \n",
      "3 X Q X X \n"
     ]
    }
   ],
   "source": [
    "gen_list = create_generation(size = 15, queens = 8)\n",
    "evaluate_generation(gen_list)\n",
    "geneations_limit = 100000\n",
    "generations = 0\n",
    "while (gen_list[0][-1] != 0 and generations <= geneations_limit):\n",
    "    crossover_generation(gen_list)\n",
    "    mutate_generation(gen_list)\n",
    "    evaluate_generation(gen_list)\n",
    "    #print(f\"Generation {generations} and its fitness score = {gen_list[0][-1]}\")\n",
    "    #print_solution(gen_list[0])\n",
    "    generations += 1\n",
    "else:\n",
    "    if generations > geneations_limit:\n",
    "        print(f\"PROBLEM IS NOT SOLVED => generation limit achieved: generations = {generations}\")\n",
    "    else:\n",
    "        print(f\"\\nPROBLEM IS SOLVED => generations = {generations}\")\n",
    "        print_solution(gen_list[0])"
   ]
  }
 ],
 "metadata": {
  "kernelspec": {
   "display_name": "Python 3 (ipykernel)",
   "language": "python",
   "name": "python3"
  },
  "language_info": {
   "codemirror_mode": {
    "name": "ipython",
    "version": 3
   },
   "file_extension": ".py",
   "mimetype": "text/x-python",
   "name": "python",
   "nbconvert_exporter": "python",
   "pygments_lexer": "ipython3",
   "version": "3.9.12"
  }
 },
 "nbformat": 4,
 "nbformat_minor": 5
}
